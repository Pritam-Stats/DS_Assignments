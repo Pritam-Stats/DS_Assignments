{
  "nbformat": 4,
  "nbformat_minor": 0,
  "metadata": {
    "colab": {
      "provenance": []
    },
    "kernelspec": {
      "name": "python3",
      "display_name": "Python 3"
    },
    "language_info": {
      "name": "python"
    }
  },
  "cells": [
    {
      "cell_type": "markdown",
      "source": [
        "#### 1.\n",
        "We can use a list as a variable, named 'var' which can take multiple datatypes."
      ],
      "metadata": {
        "id": "7977ZpdWLtNV"
      }
    },
    {
      "cell_type": "code",
      "execution_count": 1,
      "metadata": {
        "id": "63dVGwBsPhfm",
        "colab": {
          "base_uri": "https://localhost:8080/"
        },
        "outputId": "f526b025-2314-4b51-f675-7384b297ca81"
      },
      "outputs": [
        {
          "output_type": "stream",
          "name": "stdout",
          "text": [
            "['Pritam', ['DS', 'ML', 'DL', 'AI'], 30.05, (100, 'Stats', 30.05)]\n"
          ]
        }
      ],
      "source": [
        "string = \"Pritam\"\n",
        "my_list = [\"DS\",\"ML\",\"DL\", \"AI\"]\n",
        "my_float =30.05\n",
        "my_tuple = (100,\"Stats\",30.05)\n",
        "\n",
        "var = [string,my_list,my_float,my_tuple]\n",
        "print(var)"
      ]
    },
    {
      "cell_type": "markdown",
      "source": [
        "#### 2.\n",
        "i) It's a String.\n",
        "ii) It's a string.\n",
        "iii) It's a list.\n",
        "iv) It's an Integer type.\n"
      ],
      "metadata": {
        "id": "x-YlKLbENT9J"
      }
    },
    {
      "cell_type": "code",
      "source": [
        "var1 = ''\n",
        "var2 = '[ DS , ML , Python]'\n",
        "var3 = [ 'DS' , 'ML' , 'Python' ]\n",
        "var4 = 1\n",
        "\n",
        "print(type(var1),type(var2),type(var3), type(var4))"
      ],
      "metadata": {
        "colab": {
          "base_uri": "https://localhost:8080/"
        },
        "id": "QwOhdXJ3N2A2",
        "outputId": "fbb977ea-9ec1-45ac-d8cc-caff6aec848b"
      },
      "execution_count": 2,
      "outputs": [
        {
          "output_type": "stream",
          "name": "stdout",
          "text": [
            "<class 'str'> <class 'str'> <class 'list'> <class 'int'>\n"
          ]
        }
      ]
    },
    {
      "cell_type": "markdown",
      "source": [
        "#### 3.  \n",
        "\n",
        "1.   / is an arithmatic operator, used for division.\n",
        "2.   % is called the modulo operator. Use for finding the remainder.\n",
        "\n",
        "3.   // is the floor operator. Gives the floor value after division. i.e., the greatest integer value.\n",
        "4.   ** is used for finding the exponent."
      ],
      "metadata": {
        "id": "2SGM2qpNQQ_6"
      }
    },
    {
      "cell_type": "code",
      "source": [
        "a = 30\n",
        "b = 9\n",
        "\n",
        "print(f\"a/b = {a/b}; a%b = {a%b}; a//b = {a//b}; a**2 = {a**2}\")"
      ],
      "metadata": {
        "colab": {
          "base_uri": "https://localhost:8080/"
        },
        "id": "EzfWB0F_SR0B",
        "outputId": "b9e29308-b4cd-460d-b0a4-6d7fcc666c1c"
      },
      "execution_count": 8,
      "outputs": [
        {
          "output_type": "stream",
          "name": "stdout",
          "text": [
            "a/b = 3.3333333333333335; a%b = 3; a//b = 3; a**2 = 900\n"
          ]
        }
      ]
    },
    {
      "cell_type": "markdown",
      "source": [
        "#### 4."
      ],
      "metadata": {
        "id": "WWclzLE6TJHE"
      }
    },
    {
      "cell_type": "code",
      "source": [
        "my_list = [30, 5, 30.05, 30 + 5j, ('stat',100), ['DS','PWSkills',2.0], \"Math\", \"Stat\", 'ML', {0,1,2}]\n",
        "len(my_list)"
      ],
      "metadata": {
        "colab": {
          "base_uri": "https://localhost:8080/"
        },
        "id": "_OPU2BGZOcvS",
        "outputId": "ecb54a6c-be99-4e44-dbc5-3c36c34a4bee"
      },
      "execution_count": 3,
      "outputs": [
        {
          "output_type": "execute_result",
          "data": {
            "text/plain": [
              "10"
            ]
          },
          "metadata": {},
          "execution_count": 3
        }
      ]
    },
    {
      "cell_type": "code",
      "source": [
        "for i in my_list:\n",
        "  print(f\"{i}, data type : {type(i)}\")"
      ],
      "metadata": {
        "colab": {
          "base_uri": "https://localhost:8080/"
        },
        "id": "TWlCCTi3PdI0",
        "outputId": "254c75f4-8814-4128-bbd0-03663cf0904a"
      },
      "execution_count": 6,
      "outputs": [
        {
          "output_type": "stream",
          "name": "stdout",
          "text": [
            "30, data type : <class 'int'>\n",
            "5, data type : <class 'int'>\n",
            "30.05, data type : <class 'float'>\n",
            "(30+5j), data type : <class 'complex'>\n",
            "('stat', 100), data type : <class 'tuple'>\n",
            "['DS', 'PWSkills', 2.0], data type : <class 'list'>\n",
            "Math, data type : <class 'str'>\n",
            "Stat, data type : <class 'str'>\n",
            "ML, data type : <class 'str'>\n",
            "{0, 1, 2}, data type : <class 'set'>\n"
          ]
        }
      ]
    },
    {
      "cell_type": "markdown",
      "source": [
        "#### 5.\n",
        "Verification if a number A is divisible by B using while loop."
      ],
      "metadata": {
        "id": "QVmlZKAsTZj_"
      }
    },
    {
      "cell_type": "code",
      "source": [
        "A = int(input(\"A = \"))\n",
        "B = int(input(\"B = \"))\n",
        "no_of_division = A // B\n",
        "while A >= B :\n",
        "  if A == B:\n",
        "    print(f\"{A} is equal to {B}. So {A} can be purely divisible by itself 1 time.\")\n",
        "  elif A % B == 0:\n",
        "    print(f\"{A} is purely divisible by {B}, That is {A} can be divisible by {B}, {no_of_division} times.\")\n",
        "  else :\n",
        "    print(f\"{A} is not purely divisible by {B}.\")\n",
        "  #A = A - B*(A//B)\n",
        "  break\n",
        "else:\n",
        "  print(f\"{A} is lesser than {B}, so {A} can't be purely divisible by {B}.\")"
      ],
      "metadata": {
        "colab": {
          "base_uri": "https://localhost:8080/"
        },
        "id": "ZJ6JCCaWQBd1",
        "outputId": "42efd6eb-73f5-4637-990e-dcf7df304f8e"
      },
      "execution_count": 35,
      "outputs": [
        {
          "output_type": "stream",
          "name": "stdout",
          "text": [
            "A = 30\n",
            "B = 5\n",
            "30 is purely divisible by 5, That is 30 can be divisible by 5, 6 times.\n"
          ]
        }
      ]
    },
    {
      "cell_type": "markdown",
      "source": [
        "#### 6.\n",
        "Checking if a list of first 25 integer is divisible by 3 or not using for loop and if-else conditions."
      ],
      "metadata": {
        "id": "icMrZ_fAeVee"
      }
    },
    {
      "cell_type": "code",
      "source": [
        "l = list(range(1,26))\n",
        "print(l)\n",
        "for i in l:\n",
        "  if i % 3 == 0:\n",
        "    print(f\"{i} is divisible by 3.\")\n",
        "  else:\n",
        "    print(f\"{i} is not divisible by 3.\")"
      ],
      "metadata": {
        "colab": {
          "base_uri": "https://localhost:8080/"
        },
        "id": "8X5udYEbWlRJ",
        "outputId": "af0572d5-ca0e-4dac-b695-84a3aa84be34"
      },
      "execution_count": 39,
      "outputs": [
        {
          "output_type": "stream",
          "name": "stdout",
          "text": [
            "[1, 2, 3, 4, 5, 6, 7, 8, 9, 10, 11, 12, 13, 14, 15, 16, 17, 18, 19, 20, 21, 22, 23, 24, 25]\n",
            "1 is not divisible by 3.\n",
            "2 is not divisible by 3.\n",
            "3 is divisible by 3.\n",
            "4 is not divisible by 3.\n",
            "5 is not divisible by 3.\n",
            "6 is divisible by 3.\n",
            "7 is not divisible by 3.\n",
            "8 is not divisible by 3.\n",
            "9 is divisible by 3.\n",
            "10 is not divisible by 3.\n",
            "11 is not divisible by 3.\n",
            "12 is divisible by 3.\n",
            "13 is not divisible by 3.\n",
            "14 is not divisible by 3.\n",
            "15 is divisible by 3.\n",
            "16 is not divisible by 3.\n",
            "17 is not divisible by 3.\n",
            "18 is divisible by 3.\n",
            "19 is not divisible by 3.\n",
            "20 is not divisible by 3.\n",
            "21 is divisible by 3.\n",
            "22 is not divisible by 3.\n",
            "23 is not divisible by 3.\n",
            "24 is divisible by 3.\n",
            "25 is not divisible by 3.\n"
          ]
        }
      ]
    },
    {
      "cell_type": "markdown",
      "source": [
        "#### 7.\n",
        "\n",
        "*   **Mutable** Data types are those in which we can change or update that datatype. For example lists are mutable. In list we can replace an element using indices.\n",
        "*   **Immutable** Data types can't be edited or update, if we need to change an index of such data type we have to create a new object. Like String, tuple.\n",
        "\n",
        "Following are the examples where list supporting item assignment but tuple and strings don't."
      ],
      "metadata": {
        "id": "cqHXaKLsfsRF"
      }
    },
    {
      "cell_type": "code",
      "source": [
        "l = [1,2,3]\n",
        "l[0] = 2\n",
        "l"
      ],
      "metadata": {
        "colab": {
          "base_uri": "https://localhost:8080/"
        },
        "id": "Yz-BikBfenY2",
        "outputId": "469c3e93-1a93-4208-c26d-e03f7b612c01"
      },
      "execution_count": 44,
      "outputs": [
        {
          "output_type": "execute_result",
          "data": {
            "text/plain": [
              "[2, 2, 3]"
            ]
          },
          "metadata": {},
          "execution_count": 44
        }
      ]
    },
    {
      "cell_type": "code",
      "source": [
        "s = \"Pritam\"\n",
        "s[0] = 'p'"
      ],
      "metadata": {
        "colab": {
          "base_uri": "https://localhost:8080/",
          "height": 182
        },
        "id": "fOqeJlOkhAde",
        "outputId": "ca8d6ff5-6a9b-4cd4-9627-702d0e5007a1"
      },
      "execution_count": 45,
      "outputs": [
        {
          "output_type": "error",
          "ename": "TypeError",
          "evalue": "ignored",
          "traceback": [
            "\u001b[0;31m---------------------------------------------------------------------------\u001b[0m",
            "\u001b[0;31mTypeError\u001b[0m                                 Traceback (most recent call last)",
            "\u001b[0;32m<ipython-input-45-ec2a38b48e82>\u001b[0m in \u001b[0;36m<cell line: 2>\u001b[0;34m()\u001b[0m\n\u001b[1;32m      1\u001b[0m \u001b[0ms\u001b[0m \u001b[0;34m=\u001b[0m \u001b[0;34m\"Pritam\"\u001b[0m\u001b[0;34m\u001b[0m\u001b[0;34m\u001b[0m\u001b[0m\n\u001b[0;32m----> 2\u001b[0;31m \u001b[0ms\u001b[0m\u001b[0;34m[\u001b[0m\u001b[0;36m0\u001b[0m\u001b[0;34m]\u001b[0m \u001b[0;34m=\u001b[0m \u001b[0;34m'p'\u001b[0m\u001b[0;34m\u001b[0m\u001b[0;34m\u001b[0m\u001b[0m\n\u001b[0m",
            "\u001b[0;31mTypeError\u001b[0m: 'str' object does not support item assignment"
          ]
        }
      ]
    },
    {
      "cell_type": "code",
      "source": [
        "t = (1,2,3)\n",
        "t[0] = 2"
      ],
      "metadata": {
        "colab": {
          "base_uri": "https://localhost:8080/",
          "height": 182
        },
        "id": "67rqcnfJhj9H",
        "outputId": "ddba380d-c36a-42e7-8557-50b47d7d979f"
      },
      "execution_count": 46,
      "outputs": [
        {
          "output_type": "error",
          "ename": "TypeError",
          "evalue": "ignored",
          "traceback": [
            "\u001b[0;31m---------------------------------------------------------------------------\u001b[0m",
            "\u001b[0;31mTypeError\u001b[0m                                 Traceback (most recent call last)",
            "\u001b[0;32m<ipython-input-46-231db1472083>\u001b[0m in \u001b[0;36m<cell line: 2>\u001b[0;34m()\u001b[0m\n\u001b[1;32m      1\u001b[0m \u001b[0mt\u001b[0m \u001b[0;34m=\u001b[0m \u001b[0;34m(\u001b[0m\u001b[0;36m1\u001b[0m\u001b[0;34m,\u001b[0m\u001b[0;36m2\u001b[0m\u001b[0;34m,\u001b[0m\u001b[0;36m3\u001b[0m\u001b[0;34m)\u001b[0m\u001b[0;34m\u001b[0m\u001b[0;34m\u001b[0m\u001b[0m\n\u001b[0;32m----> 2\u001b[0;31m \u001b[0mt\u001b[0m\u001b[0;34m[\u001b[0m\u001b[0;36m0\u001b[0m\u001b[0;34m]\u001b[0m \u001b[0;34m=\u001b[0m \u001b[0;36m2\u001b[0m\u001b[0;34m\u001b[0m\u001b[0;34m\u001b[0m\u001b[0m\n\u001b[0m",
            "\u001b[0;31mTypeError\u001b[0m: 'tuple' object does not support item assignment"
          ]
        }
      ]
    }
  ]
}