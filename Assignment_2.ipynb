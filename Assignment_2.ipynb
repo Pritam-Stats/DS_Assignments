{
  "nbformat": 4,
  "nbformat_minor": 0,
  "metadata": {
    "colab": {
      "provenance": []
    },
    "kernelspec": {
      "name": "python3",
      "display_name": "Python 3"
    },
    "language_info": {
      "name": "python"
    }
  },
  "cells": [
    {
      "cell_type": "markdown",
      "source": [
        "#Q1.\n",
        "There are 3 types of comments in Python-\n",
        "\n",
        "*   Single Line comments\n",
        "*   Multi Line comments\n",
        "*   Docstring Comments\n",
        "\n",
        "> To write *Single Line Comments* we use the hash symbol #.\n",
        "\n",
        "\n",
        "> For *Multi Line Comments* we can use triple quotes \"\"\" Comments \"\"\". Though by definition this will be a string, but python ignores those strings which are not assigned to  a variable.\n",
        "\n",
        "\n",
        "> We use triple quotations inside a function or class to know what they do, and we can access those strings using the (_ _ doc _ _)**bold text** attribute."
      ],
      "metadata": {
        "id": "29FuhOLKvUEv"
      }
    },
    {
      "cell_type": "code",
      "source": [
        "# This is a Single Line Comment\n",
        "\n",
        "\"\"\" This\n",
        "is\n",
        "a\n",
        "Multi Line\n",
        "Comment\"\"\"\n",
        "\n",
        "print(__doc__) # this a the use of docstring"
      ],
      "metadata": {
        "colab": {
          "base_uri": "https://localhost:8080/"
        },
        "id": "ywxUmbuGz4Tt",
        "outputId": "0a0dabc3-9e8a-476d-ebb3-c6a5ab15659e"
      },
      "execution_count": null,
      "outputs": [
        {
          "output_type": "stream",
          "name": "stdout",
          "text": [
            " This\n",
            "is\n",
            "a \n",
            "Multi Line\n",
            "Comment\n"
          ]
        }
      ]
    },
    {
      "cell_type": "code",
      "source": [],
      "metadata": {
        "id": "ovikFWWd0QXy"
      },
      "execution_count": null,
      "outputs": []
    },
    {
      "cell_type": "markdown",
      "source": [
        "#Q2\n",
        "Variables are simple names of objects who works as a container for storing data, a name or string like \"*var*\" becomes a variable as soon as we assign a value to it.\n",
        "\n",
        "\n",
        "> We assign value by using the **Assignment Operator (=)**.\n",
        "\n",
        "\n",
        "```\n",
        "# Acceptable variable\n",
        "var = 10\n",
        "x = 20\n",
        "_x = 5\n",
        "Var = 3.5\n",
        "```\n",
        "These are the examples of variables. here \"var\", \"x\" both are variable containing integer type of data. That is *we assigned the value 10 to the variable named as \"var\" and 20 to the variable named \"x\".*\n",
        "\n",
        "\n",
        "> Some Properties about variables in Python:\n",
        "\n",
        "1. Variables are case sensative in Python. Which means \"var\" and  \"Var\" will be two different variables.\n",
        "2.   We can name a variable using strings, single letter, using underscores, letter and digits but can't use special characters and can't use digits at beginning and can't use python built in functions as a variable.\n",
        "\n",
        "\n",
        "```\n",
        "# Unacceptable variable names\n",
        "3x = 10\n",
        "x@ = 5\n",
        "x.x = 6\n",
        "```\n",
        "\n",
        "\n",
        "\n",
        "\n",
        "\n"
      ],
      "metadata": {
        "id": "qlQJZBDT0ojO"
      }
    },
    {
      "cell_type": "code",
      "source": [],
      "metadata": {
        "id": "KcH7afO_yFJM"
      },
      "execution_count": 4,
      "outputs": []
    },
    {
      "cell_type": "markdown",
      "source": [
        "# Q3\n",
        "To convert a value\n",
        "1.   to Integer we use  ``` int() ```,\n",
        "2.   to Float we use ``` float() ``` ,\n",
        "3.   to complex we use ``` complex() ``` ,\n",
        "4.  to String we use ``` str() ```\n",
        "\n",
        "To convert any array data\n",
        "1.   To a list we use ``` list() ```\n",
        "2.   To a tuple we use ``` tuple() ```\n",
        "3.   To a set we use ``` set() ```\n",
        "\n",
        "\n",
        "\n",
        "\n",
        "\n"
      ],
      "metadata": {
        "id": "7Rx22I-mzOcj"
      }
    },
    {
      "cell_type": "code",
      "source": [
        "x = 3"
      ],
      "metadata": {
        "id": "pdJe3t5u1tnF"
      },
      "execution_count": 5,
      "outputs": []
    },
    {
      "cell_type": "code",
      "source": [
        "str(x)"
      ],
      "metadata": {
        "colab": {
          "base_uri": "https://localhost:8080/",
          "height": 36
        },
        "id": "Y-rT9omB1u-Y",
        "outputId": "21a32a40-5dfd-43f8-a6ea-3038798a861c"
      },
      "execution_count": 6,
      "outputs": [
        {
          "output_type": "execute_result",
          "data": {
            "text/plain": [
              "'3'"
            ],
            "application/vnd.google.colaboratory.intrinsic+json": {
              "type": "string"
            }
          },
          "metadata": {},
          "execution_count": 6
        }
      ]
    },
    {
      "cell_type": "code",
      "source": [
        "complex(3)"
      ],
      "metadata": {
        "colab": {
          "base_uri": "https://localhost:8080/"
        },
        "id": "xTibtSrZ1yLt",
        "outputId": "643a66d3-9ceb-4786-e07a-81e89239d266"
      },
      "execution_count": 7,
      "outputs": [
        {
          "output_type": "execute_result",
          "data": {
            "text/plain": [
              "(3+0j)"
            ]
          },
          "metadata": {},
          "execution_count": 7
        }
      ]
    },
    {
      "cell_type": "code",
      "source": [
        "float(x)"
      ],
      "metadata": {
        "colab": {
          "base_uri": "https://localhost:8080/"
        },
        "id": "8WMWmrIh10aI",
        "outputId": "b160265d-4f91-4fb3-b17b-02e9e2a3b42b"
      },
      "execution_count": 9,
      "outputs": [
        {
          "output_type": "execute_result",
          "data": {
            "text/plain": [
              "3.0"
            ]
          },
          "metadata": {},
          "execution_count": 9
        }
      ]
    },
    {
      "cell_type": "code",
      "source": [
        "y = [0.123,0,30,5,6,9]"
      ],
      "metadata": {
        "id": "lDwRckgt17-P"
      },
      "execution_count": 11,
      "outputs": []
    },
    {
      "cell_type": "code",
      "source": [
        "z = tuple(y)"
      ],
      "metadata": {
        "id": "EHQP0SAP2B5l"
      },
      "execution_count": 14,
      "outputs": []
    },
    {
      "cell_type": "code",
      "source": [
        "set(y)"
      ],
      "metadata": {
        "colab": {
          "base_uri": "https://localhost:8080/"
        },
        "id": "ZT2u6qvJ2Dq4",
        "outputId": "f8f38553-f72c-4302-f9b9-d94da016f3b2"
      },
      "execution_count": 15,
      "outputs": [
        {
          "output_type": "execute_result",
          "data": {
            "text/plain": [
              "{0, 0.123, 5, 6, 9, 30}"
            ]
          },
          "metadata": {},
          "execution_count": 15
        }
      ]
    },
    {
      "cell_type": "code",
      "source": [
        "list(z)"
      ],
      "metadata": {
        "colab": {
          "base_uri": "https://localhost:8080/"
        },
        "id": "lB-NGK3m2Fbi",
        "outputId": "c59d2e16-2b71-4615-a6fb-ba927b6dc2b7"
      },
      "execution_count": 16,
      "outputs": [
        {
          "output_type": "execute_result",
          "data": {
            "text/plain": [
              "[0.123, 0, 30, 5, 6, 9]"
            ]
          },
          "metadata": {},
          "execution_count": 16
        }
      ]
    },
    {
      "cell_type": "code",
      "source": [],
      "metadata": {
        "id": "HEBBBC902Sxr"
      },
      "execution_count": null,
      "outputs": []
    },
    {
      "cell_type": "markdown",
      "source": [
        "# Q4\n",
        "We open the command prompt or powershell in our system and we have to change the directory to our python file's directory where the script has been saved. we use the command like this (assuming our script in saved in desktop. named as (My_Script.py))\n",
        "\n",
        "```\n",
        "cd desktop  #(then hit enter)\n",
        "```\n",
        "then our directory will be changed to desktop. then we write\n",
        "```\n",
        "python My_Script.py #(hit enter)\n",
        "```\n",
        "Then our code will be executed.\n",
        "\n",
        "\n"
      ],
      "metadata": {
        "id": "T9l2TfqU2j9T"
      }
    },
    {
      "cell_type": "code",
      "source": [],
      "metadata": {
        "id": "6euCF2j67NLs"
      },
      "execution_count": null,
      "outputs": []
    },
    {
      "cell_type": "markdown",
      "source": [
        "# Q5\n",
        "We have given a list named as my_list = [1,2,3,4,5]. We have to slice and obtain the sub-list [2,3]"
      ],
      "metadata": {
        "id": "RZaUN_i-7Np9"
      }
    },
    {
      "cell_type": "code",
      "source": [
        "my_list = [1,2,3,4,5]\n",
        "sub_list = my_list[1:3] #using forward indexing\n",
        "sub_list"
      ],
      "metadata": {
        "colab": {
          "base_uri": "https://localhost:8080/"
        },
        "id": "j7Fbj3BF7rnJ",
        "outputId": "26d8580c-0846-444a-b9f8-27121c9b2269"
      },
      "execution_count": 19,
      "outputs": [
        {
          "output_type": "execute_result",
          "data": {
            "text/plain": [
              "[2, 3]"
            ]
          },
          "metadata": {},
          "execution_count": 19
        }
      ]
    },
    {
      "cell_type": "code",
      "source": [
        "my_list[-4:-2] #using backward indexing"
      ],
      "metadata": {
        "colab": {
          "base_uri": "https://localhost:8080/"
        },
        "id": "bBiK3dMX77HC",
        "outputId": "a22a714f-33c8-448b-af37-b2d9dd4ad366"
      },
      "execution_count": 27,
      "outputs": [
        {
          "output_type": "execute_result",
          "data": {
            "text/plain": [
              "[2, 3]"
            ]
          },
          "metadata": {},
          "execution_count": 27
        }
      ]
    },
    {
      "cell_type": "code",
      "source": [],
      "metadata": {
        "id": "tLP5UrVN859m"
      },
      "execution_count": null,
      "outputs": []
    },
    {
      "cell_type": "markdown",
      "source": [
        "# Q6\n",
        "Complex Numbers in mathematics are the combination of real and imaginary number $(i)$. Expressed as $(a+ib)$. $i = \\sqrt(-1) $. Where $a$ is the real part.\n",
        "\n",
        "\n",
        "\n",
        "> In Python we use ``` a+bj ``` to denote a complex number. We use (j) to denote the imaginary part.\n",
        "\n",
        "\n",
        "\n"
      ],
      "metadata": {
        "id": "bJlCi8RF9DDm"
      }
    },
    {
      "cell_type": "code",
      "source": [
        "x = 5 + 9j\n",
        "type(x)"
      ],
      "metadata": {
        "colab": {
          "base_uri": "https://localhost:8080/"
        },
        "id": "oXnZddjE_0-5",
        "outputId": "5e3be81b-357c-411c-94bd-6b3627308899"
      },
      "execution_count": 32,
      "outputs": [
        {
          "output_type": "execute_result",
          "data": {
            "text/plain": [
              "complex"
            ]
          },
          "metadata": {},
          "execution_count": 32
        }
      ]
    },
    {
      "cell_type": "code",
      "source": [],
      "metadata": {
        "id": "eI-qbPke_5Pt"
      },
      "execution_count": null,
      "outputs": []
    },
    {
      "cell_type": "markdown",
      "source": [
        "# Q7\n",
        "Correct way to declare a variable named \"age\" and assign a value 25 to it is ```age = 25 ```.\n"
      ],
      "metadata": {
        "id": "oFFQLOdE_7RB"
      }
    },
    {
      "cell_type": "code",
      "source": [],
      "metadata": {
        "id": "bihzKJjAAcRv"
      },
      "execution_count": null,
      "outputs": []
    },
    {
      "cell_type": "markdown",
      "source": [
        "# Q8\n",
        "A variable named \"price\" and assigning the value 9.99 to it. This variable will belong to the **float** data type."
      ],
      "metadata": {
        "id": "ypTRBRtUAcue"
      }
    },
    {
      "cell_type": "code",
      "source": [
        "price = 9.99\n",
        "type(price)"
      ],
      "metadata": {
        "colab": {
          "base_uri": "https://localhost:8080/"
        },
        "id": "BWPXT56aA2IU",
        "outputId": "e52cf07a-1b48-4236-e4e6-e72d8cc14f99"
      },
      "execution_count": 33,
      "outputs": [
        {
          "output_type": "execute_result",
          "data": {
            "text/plain": [
              "float"
            ]
          },
          "metadata": {},
          "execution_count": 33
        }
      ]
    },
    {
      "cell_type": "code",
      "source": [],
      "metadata": {
        "id": "PeLBk3lBA5Js"
      },
      "execution_count": null,
      "outputs": []
    },
    {
      "cell_type": "markdown",
      "source": [
        "# Q9\n",
        "Creating a variable named as \"name\" and printing my name. This will be a string data type."
      ],
      "metadata": {
        "id": "rsgg40xBA6Cp"
      }
    },
    {
      "cell_type": "code",
      "source": [
        "name = \"Pritam Saha\"\n",
        "print(name)"
      ],
      "metadata": {
        "colab": {
          "base_uri": "https://localhost:8080/"
        },
        "id": "hd34513YBG6U",
        "outputId": "d789fb95-6fbf-437d-e235-eac10677d8b4"
      },
      "execution_count": 34,
      "outputs": [
        {
          "output_type": "stream",
          "name": "stdout",
          "text": [
            "Pritam Saha\n"
          ]
        }
      ]
    },
    {
      "cell_type": "code",
      "source": [],
      "metadata": {
        "id": "sK8inPAVBWIX"
      },
      "execution_count": null,
      "outputs": []
    },
    {
      "cell_type": "markdown",
      "source": [
        "# Q10\n",
        "Extracting sub-string \"World\" from the string  \"Hello, World!\""
      ],
      "metadata": {
        "id": "trB5X2oVBXe2"
      }
    },
    {
      "cell_type": "code",
      "source": [
        "s = \"Hello, World!\"\n",
        "len(s)"
      ],
      "metadata": {
        "colab": {
          "base_uri": "https://localhost:8080/"
        },
        "id": "lm4C9E5oBoVz",
        "outputId": "a3932d41-2d93-4621-856c-b5507af31671"
      },
      "execution_count": 35,
      "outputs": [
        {
          "output_type": "execute_result",
          "data": {
            "text/plain": [
              "13"
            ]
          },
          "metadata": {},
          "execution_count": 35
        }
      ]
    },
    {
      "cell_type": "code",
      "source": [
        "s[7:len(s)-1] #[start:stop:step]"
      ],
      "metadata": {
        "colab": {
          "base_uri": "https://localhost:8080/",
          "height": 36
        },
        "id": "sk5DQyYSBwML",
        "outputId": "65d98499-bd8a-4d27-933f-9d2c32f96b9b"
      },
      "execution_count": 49,
      "outputs": [
        {
          "output_type": "execute_result",
          "data": {
            "text/plain": [
              "'World'"
            ],
            "application/vnd.google.colaboratory.intrinsic+json": {
              "type": "string"
            }
          },
          "metadata": {},
          "execution_count": 49
        }
      ]
    },
    {
      "cell_type": "code",
      "source": [
        "s[-6:-1]"
      ],
      "metadata": {
        "colab": {
          "base_uri": "https://localhost:8080/",
          "height": 36
        },
        "id": "QayB9_e9CAWB",
        "outputId": "a816f66d-6925-4a67-80ed-e50f9d4f3d6b"
      },
      "execution_count": 50,
      "outputs": [
        {
          "output_type": "execute_result",
          "data": {
            "text/plain": [
              "'World'"
            ],
            "application/vnd.google.colaboratory.intrinsic+json": {
              "type": "string"
            }
          },
          "metadata": {},
          "execution_count": 50
        }
      ]
    },
    {
      "cell_type": "code",
      "source": [],
      "metadata": {
        "id": "ViHueAOJDHcl"
      },
      "execution_count": 50,
      "outputs": []
    },
    {
      "cell_type": "markdown",
      "source": [
        "# Q11\n",
        "Creating  a variable named \"is_student\" and assigning a boolean value indicating whether you are a student or not.\n",
        "\n",
        "I am taking  user input, questioning are you a student, if yes we assign true to the variable otherwise false."
      ],
      "metadata": {
        "id": "5ldE32ymD1av"
      }
    },
    {
      "cell_type": "code",
      "source": [
        "is_student = bool()\n",
        "s = input(\"Are you a student?(Y/N) \").upper()\n",
        "if s == \"Y\" or s == \"YES\":\n",
        "  is_student = True\n",
        "else:\n",
        "  is_student = False\n",
        "\n",
        "print(is_student)\n",
        "print(type(is_student))\n"
      ],
      "metadata": {
        "colab": {
          "base_uri": "https://localhost:8080/"
        },
        "id": "2JkvX18fEpOs",
        "outputId": "cb0b94e2-3045-4d1e-944b-b99dd36db3b2"
      },
      "execution_count": 52,
      "outputs": [
        {
          "output_type": "stream",
          "name": "stdout",
          "text": [
            "Are you a student?(Y/N) n\n",
            "False\n",
            "<class 'bool'>\n"
          ]
        }
      ]
    },
    {
      "cell_type": "code",
      "source": [],
      "metadata": {
        "id": "Wfi2betyFpRv"
      },
      "execution_count": null,
      "outputs": []
    }
  ]
}